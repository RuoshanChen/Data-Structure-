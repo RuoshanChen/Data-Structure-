{
 "cells": [
  {
   "cell_type": "markdown",
   "metadata": {},
   "source": [
    "# Hashtable\n",
    "\n",
    "## Overview\n",
    "\n",
    "For this assignment you will complete the implementation of a hashtable data structure, which exposes an API mirroring that of the built-in Python `dict`.\n",
    "\n",
    "A hashtable is conceptually a two-tiered data structure, where keys are initially mapped — via their hash values — to slots in a \"buckets\" array, each of which in turn contain singly-linked (non-circular) lists of key/value pairs (known as \"chains\"). The hope is that by keeping the number of collisions — i.e., instances where keys map to the same bucket — low, key-based lookups can be performed very quickly. The essential operations on a hashtable `h` are listed alongside their behavior/mechanics below:\n",
    "\n",
    "| Operation | Description |\n",
    "|-----------|-------------|\n",
    "| `h[k]`&nbsp;`=`&nbsp;`v` | The key `k`'s hash value is used to locate the appropriate slot in the array of buckets. If the bucket entry is `None`, a new linked list is created with `k` & `v` as the first entry and the head of the list is placed in the bucket. Otherwise, the list is searched for a node containing key `k`; if found the node's value will be updated with `v`, else a new node containing key `k` & value `v` is appended to the list. Note that this implies a given key has a unique mapping in a hashtable. |\n",
    "| `h[k]`    | The key `k`'s hash value is used to locate the appropriate slot in the array of buckets. If the bucket entry is not `None`, the linked list at that location is searched for a node containing `k`; if found, the corresponding value is returned. If the bucket is empty or the list does not contain a node with key `k`, a `KeyError` is raised. |\n",
    "| `del`&nbsp;`h[k]` | The key `k`'s hash value is used to locate the appropriate slot in the array of buckets. If the bucket entry is not `None`, the linked list in the bucket is searched for a node with key `k`; if found, it is deleted. If either the bucket is empty or the list doesn't contain key `k`, a `KeyError` is raised. |\n",
    "| `k`&nbsp;`in`&nbsp;`h` | Returns `True` if key `k` is found in a list in the appropriate bucket. |\n",
    "| `len(h)` | Returns the number of keys stored across all buckets. |\n",
    "| `iter(h)` | Returns an iterator over all the keys in the hashtable. |\n",
    "| `h.keys()` | Returns an iterator over all the keys in the hashtable (the same as above). |\n",
    "| `h.values()` | Returns an iterator over all the values in the hashtable. |\n",
    "| `h.items()` | Returns an iterator over all the key/value pairs (as tuples) in the hashtable. |\n",
    "| `h.setdefault(key, default)` | If `key` is in the dictionary, return its value. If not, insert key with a value of `default` and return `default`. `default` defaults to `None`. |\n",
    "\n",
    "Your hashtable will be provided with the initial number of buckets on creation (i.e., in `__init__`), which will be used to create an array with that size (where each slot contains `None`). Because the hash value of a given key can exceed the number of buckets, hash values will be mapped to buckets using the modulus operator; i.e., `hash(k) % len(self.buckets)` will return the index of the appropriate bucket for key `k`."
   ]
  },
  {
   "cell_type": "code",
   "execution_count": 305,
   "metadata": {
    "collapsed": false,
    "deletable": false,
    "nbgrader": {
     "checksum": "fd6d3e40d1883544dc52a3587fc472e1",
     "grade": false,
     "grade_id": "hashtable",
     "locked": false,
     "schema_version": 1,
     "solution": true
    }
   },
   "outputs": [],
   "source": [
    "class Hashtable:\n",
    "    class Node:\n",
    "        \"\"\"Instances of this class will be used to construct the linked lists (chains)\n",
    "        found in non-empty hashtable buckets.\"\"\"\n",
    "        def __init__(self, key, val, next=None):\n",
    "            self.key = key\n",
    "            self.val = val\n",
    "            self.next = next\n",
    "\n",
    "    def __init__(self, n_buckets=1000):\n",
    "        self.buckets = [None] * n_buckets # initially empty buckets array\n",
    "        self.count = 0\n",
    "    \n",
    "    def __getitem__(self, key):\n",
    "    \n",
    "        hidx = hash(key) % len(self.buckets)\n",
    "        n = self.buckets[hidx]\n",
    "        if not n:\n",
    "            raise KeyError\n",
    "        else:\n",
    "            while True:\n",
    "                if n.key != key:\n",
    "                    if not n.next:\n",
    "                        raise KeyError\n",
    "                    else:\n",
    "                        n = n.next\n",
    "                else:\n",
    "                    return n.val\n",
    "        \n",
    "                \n",
    "    def __setitem__(self, key, val):\n",
    "        hidx = hash(key) % len(self.buckets)\n",
    "        n = self.buckets[hidx]\n",
    "        if not n:\n",
    "            n = self.buckets[hidx]= Hashtable.Node(key, val)\n",
    "            self.count += 1\n",
    "        else:\n",
    "            while True:\n",
    "                if n.key != key:\n",
    "                    if not n.next:\n",
    "                        n.next = Hashtable.Node(key, val)\n",
    "                        self.count += 1\n",
    "                        break\n",
    "                    else:\n",
    "                        n = n.next\n",
    "                else:\n",
    "                    n.val = val\n",
    "                    break\n",
    "                \n",
    "    \n",
    "    def __delitem__(self, key):\n",
    "        hidx = hash(key) % len(self.buckets)\n",
    "        if not self.buckets[hidx]:\n",
    "            raise KeyError\n",
    "        else:\n",
    "            while True:\n",
    "                if  self.buckets[hidx].key != key:\n",
    "                    if not self.buckets[hidx].next:\n",
    "                        raise KeyError\n",
    "                    else:\n",
    "                        self.buckets[hidx] = self.buckets[hidx].next\n",
    "                else:      \n",
    "                    self.buckets[hidx] = None\n",
    "                    self.count -= 1\n",
    "                    return \n",
    "#                     if not self.buckets[hidx].next:\n",
    "#                         if self.buckets[hidx].\n",
    "#                         raise KeyError\n",
    "#                     else:\n",
    "#                         while self.buckets[hidx].next:\n",
    "#                             self.buckets[hidx] = self.buckets[hidx].next\n",
    "#                         self.count -= 1\n",
    "#                         break\n",
    "                    \n",
    "    \n",
    "                \n",
    "    def __contains__(self, key):\n",
    "        try:\n",
    "            _ = self[key]\n",
    "            return True\n",
    "        except:\n",
    "            return False\n",
    "        \n",
    "    def __len__(self):\n",
    "        return self.count\n",
    "    \n",
    "    def __iter__(self):\n",
    "        for b in self.buckets:\n",
    "            while b:\n",
    "                yield b.key\n",
    "                b = b.next\n",
    "                    \n",
    "    def keys(self):\n",
    "        return iter(self)\n",
    "\n",
    "    def values(self):\n",
    "        for b in self.buckets:\n",
    "            while b:\n",
    "                yield b.val\n",
    "                b = b.next\n",
    "\n",
    "    def items(self):\n",
    "\n",
    "        for b in iter(self.buckets):\n",
    "            if b:\n",
    "                yield (b.key, b.val)\n",
    "\n",
    "        \n",
    "        \n",
    "    def setdefault(self, key, default=None):\n",
    "        hidx = hash(key) % len(self.buckets)\n",
    "        n = self.buckets[hidx]\n",
    "        if not n:\n",
    "            n = self.buckets[hidx]= Hashtable.Node(key, default) \n",
    "            self.count += 1\n",
    "            return n.val\n",
    "        else:\n",
    "            while True:\n",
    "                if n.key != key:\n",
    "                    if not n.next:\n",
    "                        n.next = Hashtable.Node(key, default)\n",
    "                        self.count += 1\n",
    "                        return n.val\n",
    "                    else:\n",
    "                        n = n.next\n",
    "                else:\n",
    "                    return n.val\n",
    "        \n",
    "                \n",
    "            \n",
    "            \n",
    "            \n",
    "            \n",
    "            \n",
    "            \n",
    "            def __getitem__(self, key):\n",
    "        hidx = hash(key) % len(self.buckets)\n",
    "        n = self.buckets[hidx]\n",
    "        if not n:\n",
    "            raise KeyError\n",
    "        else:\n",
    "            while True:\n",
    "                if n.key != key:\n",
    "                    if not n.next:\n",
    "                        raise KeyError\n",
    "                    else:\n",
    "                        n = n.next\n",
    "                else:\n",
    "                    return n.val\n",
    "        \n",
    "    \n",
    "    def __setitem__(self, key, val):\n",
    "        hidx = hash(key) % len(self.buckets)\n",
    "        n = self.buckets[hidx]\n",
    "        if not n:\n",
    "            n = self.buckets[hidx]= Hashtable.Node(key, val)\n",
    "            self.count += 1\n",
    "        else:\n",
    "            while True:\n",
    "                if n.key != key:\n",
    "                    if not n.next:\n",
    "                        n.next = Hashtable.Node(key, val)\n",
    "                        self.count += 1\n",
    "                        break\n",
    "                    else:\n",
    "                        n = n.next\n",
    "                else:\n",
    "                    n.val = val\n",
    "                    break\n",
    "    \n",
    "    def __delitem__(self, key):\n",
    "        hidx = hash(key) % len(self.buckets)\n",
    "        if not self.buckets[hidx]:\n",
    "            raise KeyError\n",
    "        else:\n",
    "            while True:\n",
    "                if  self.buckets[hidx].key != key:\n",
    "                    if not self.buckets[hidx].next:\n",
    "                        raise KeyError\n",
    "                    else:\n",
    "                        self.buckets[hidx] = self.buckets[hidx].next\n",
    "                else:      \n",
    "                    self.buckets[hidx] = None\n",
    "                    self.count -= 1\n",
    "                    return \n",
    "                \n",
    "    def __contains__(self, key):\n",
    "        try:\n",
    "            _ = self.buckets[key]\n",
    "            return True\n",
    "        except:\n",
    "            return False\n",
    "        \n",
    "    def __len__(self):\n",
    "        return self.count\n",
    "    \n",
    "    def __iter__(self):\n",
    "        for b in self.buckets:\n",
    "            while b:\n",
    "                yield b.key\n",
    "                b = b.next\n",
    "                    \n",
    "    def keys(self):\n",
    "        return iter(self)\n",
    "\n",
    "    def values(self):\n",
    "        for b in self.buckets:\n",
    "            while b:\n",
    "                yield b.val\n",
    "                b = b.next\n",
    "    def items(self):\n",
    "        for b in iter(self.buckets):\n",
    "            if b:\n",
    "                yield (b.key, b.val)\n",
    "        \n",
    "    def setdefault(self, key, default=None):\n",
    "        hidx = hash(key) % len(self.buckets)\n",
    "        n = self.buckets[hidx]\n",
    "        if not n:\n",
    "            n = self.buckets[hidx]= Hashtable.Node(key, default) \n",
    "            self.count += 1\n",
    "            return n.val\n",
    "        else:\n",
    "            while True:\n",
    "                if n.key != key:\n",
    "                    if not n.next:\n",
    "                        n.next = Hashtable.Node(key, default)\n",
    "                        self.count += 1\n",
    "                        return n.val\n",
    "                    else:\n",
    "                        n = n.next\n",
    "                else:\n",
    "                    return n.val\n",
    "        \n",
    "                "
   ]
  },
  {
   "cell_type": "code",
   "execution_count": 306,
   "metadata": {
    "collapsed": true
   },
   "outputs": [],
   "source": [
    "h = Hashtable()"
   ]
  },
  {
   "cell_type": "code",
   "execution_count": 307,
   "metadata": {
    "collapsed": false
   },
   "outputs": [],
   "source": [
    "h['hi'] = 2\n",
    "h['a'] = 1\n",
    "h[1] = 2\n",
    "\n",
    "h['d'] = 4"
   ]
  },
  {
   "cell_type": "code",
   "execution_count": 308,
   "metadata": {
    "collapsed": false
   },
   "outputs": [
    {
     "data": {
      "text/plain": [
       "<generator object Hashtable.__iter__ at 0x10da9a728>"
      ]
     },
     "execution_count": 308,
     "metadata": {},
     "output_type": "execute_result"
    }
   ],
   "source": [
    "iter(h)"
   ]
  },
  {
   "cell_type": "code",
   "execution_count": 312,
   "metadata": {
    "collapsed": false
   },
   "outputs": [
    {
     "name": "stdout",
     "output_type": "stream",
     "text": [
      "1\n",
      "hi\n",
      "a\n"
     ]
    }
   ],
   "source": [
    "for k in h:\n",
    "    print(k)\n"
   ]
  },
  {
   "cell_type": "code",
   "execution_count": 313,
   "metadata": {
    "collapsed": false
   },
   "outputs": [
    {
     "name": "stdout",
     "output_type": "stream",
     "text": [
      "(1, 2)\n",
      "('hi', 2)\n",
      "('a', 1)\n"
     ]
    }
   ],
   "source": [
    "for k in h.items():\n",
    "    print (k)"
   ]
  },
  {
   "cell_type": "code",
   "execution_count": 311,
   "metadata": {
    "collapsed": false
   },
   "outputs": [],
   "source": [
    "del h['d']"
   ]
  },
  {
   "cell_type": "code",
   "execution_count": 317,
   "metadata": {
    "collapsed": false,
    "deletable": false,
    "editable": false,
    "nbgrader": {
     "checksum": "87e42a055a21cbb33b47e1f0afcba201",
     "grade": true,
     "grade_id": "tests_basic",
     "locked": true,
     "points": 4,
     "schema_version": 1,
     "solution": false
    }
   },
   "outputs": [],
   "source": [
    "# (4 points) Basic tests\n",
    "\n",
    "from unittest import TestCase\n",
    "import random\n",
    "\n",
    "tc = TestCase()\n",
    "\n",
    "class MyInt(int):\n",
    "    def __hash__(self):\n",
    "        \"\"\"MyInts hash to themselves — already current Python default, \n",
    "        but just to ensure consistency.\"\"\"\n",
    "        return self\n",
    "    \n",
    "def ll_len(l):\n",
    "    \"\"\"Returns the length of a linked list with head `l` (assuming no sentinel)\"\"\"\n",
    "    c = 0\n",
    "    while l:\n",
    "        c += 1\n",
    "        l = l.next\n",
    "    return c\n",
    "    \n",
    "ht = Hashtable(10)\n",
    "for i in range(25):\n",
    "    ht[MyInt(i)] = i*2\n",
    "\n",
    "tc.assertEqual(len(ht), 25)\n",
    "\n",
    "for i in range(5):\n",
    "    tc.assertEqual(ll_len(ht.buckets[i]), 3)\n",
    "    \n",
    "for i in range(5, 10):\n",
    "    tc.assertEqual(ll_len(ht.buckets[i]), 2)\n",
    "\n",
    "for i in range(25):\n",
    "    tc.assertTrue(MyInt(i) in ht)\n",
    "    tc.assertEqual(ht[MyInt(i)], i*2)"
   ]
  },
  {
   "cell_type": "code",
   "execution_count": 318,
   "metadata": {
    "collapsed": false,
    "deletable": false,
    "editable": false,
    "nbgrader": {
     "checksum": "9044175a7be2e0e6100b37ea19e03641",
     "grade": true,
     "grade_id": "tests_iterators",
     "locked": true,
     "points": 4,
     "schema_version": 1,
     "solution": false
    }
   },
   "outputs": [],
   "source": [
    "# (4 points) Iterator testing\n",
    "\n",
    "from unittest import TestCase\n",
    "import random\n",
    "\n",
    "tc = TestCase()\n",
    "\n",
    "ht = Hashtable(100)\n",
    "d = {}\n",
    "\n",
    "for i in range(100):\n",
    "    k, v = str(i), str(random.randrange(10000000, 99999999))\n",
    "    d[k] = v\n",
    "    ht[k] = v\n",
    "    \n",
    "keys = set(ht.keys())\n",
    "tc.assertEqual(len(keys), 100)\n",
    "for k in keys:\n",
    "    tc.assertTrue(k in ht)\n",
    "    tc.assertEqual(ht[k], d[k])\n",
    "\n",
    "tc.assertEqual(sorted(ht.values()), sorted(d.values()))\n",
    "\n",
    "for k,v in ht.items():\n",
    "    tc.assertEqual(d[k], v)"
   ]
  },
  {
   "cell_type": "code",
   "execution_count": 319,
   "metadata": {
    "collapsed": false,
    "deletable": false,
    "editable": false,
    "nbgrader": {
     "checksum": "5157006abe208717ff57398c3211d9b9",
     "grade": true,
     "grade_id": "tests_delete",
     "locked": true,
     "points": 4,
     "schema_version": 1,
     "solution": false
    }
   },
   "outputs": [
    {
     "ename": "KeyError",
     "evalue": "",
     "output_type": "error",
     "traceback": [
      "\u001b[0;31m---------------------------------------------------------------------------\u001b[0m",
      "\u001b[0;31mKeyError\u001b[0m                                  Traceback (most recent call last)",
      "\u001b[0;32m<ipython-input-319-b349e5f402ad>\u001b[0m in \u001b[0;36m<module>\u001b[0;34m()\u001b[0m\n\u001b[1;32m     19\u001b[0m     \u001b[0;32mif\u001b[0m \u001b[0mk\u001b[0m \u001b[0;32min\u001b[0m \u001b[0md\u001b[0m\u001b[0;34m:\u001b[0m\u001b[0;34m\u001b[0m\u001b[0m\n\u001b[1;32m     20\u001b[0m         \u001b[0;32mdel\u001b[0m \u001b[0md\u001b[0m\u001b[0;34m[\u001b[0m\u001b[0mk\u001b[0m\u001b[0;34m]\u001b[0m\u001b[0;34m\u001b[0m\u001b[0m\n\u001b[0;32m---> 21\u001b[0;31m         \u001b[0;32mdel\u001b[0m \u001b[0mht\u001b[0m\u001b[0;34m[\u001b[0m\u001b[0mk\u001b[0m\u001b[0;34m]\u001b[0m\u001b[0;34m\u001b[0m\u001b[0m\n\u001b[0m\u001b[1;32m     22\u001b[0m \u001b[0;34m\u001b[0m\u001b[0m\n\u001b[1;32m     23\u001b[0m \u001b[0mtc\u001b[0m\u001b[0;34m.\u001b[0m\u001b[0massertEqual\u001b[0m\u001b[0;34m(\u001b[0m\u001b[0mlen\u001b[0m\u001b[0;34m(\u001b[0m\u001b[0mht\u001b[0m\u001b[0;34m)\u001b[0m\u001b[0;34m,\u001b[0m \u001b[0mlen\u001b[0m\u001b[0;34m(\u001b[0m\u001b[0md\u001b[0m\u001b[0;34m)\u001b[0m\u001b[0;34m)\u001b[0m\u001b[0;34m\u001b[0m\u001b[0m\n",
      "\u001b[0;32m<ipython-input-305-2380f5b67575>\u001b[0m in \u001b[0;36m__delitem__\u001b[0;34m(self, key)\u001b[0m\n\u001b[1;32m     55\u001b[0m         \u001b[0mhidx\u001b[0m \u001b[0;34m=\u001b[0m \u001b[0mhash\u001b[0m\u001b[0;34m(\u001b[0m\u001b[0mkey\u001b[0m\u001b[0;34m)\u001b[0m \u001b[0;34m%\u001b[0m \u001b[0mlen\u001b[0m\u001b[0;34m(\u001b[0m\u001b[0mself\u001b[0m\u001b[0;34m.\u001b[0m\u001b[0mbuckets\u001b[0m\u001b[0;34m)\u001b[0m\u001b[0;34m\u001b[0m\u001b[0m\n\u001b[1;32m     56\u001b[0m         \u001b[0;32mif\u001b[0m \u001b[0;32mnot\u001b[0m \u001b[0mself\u001b[0m\u001b[0;34m.\u001b[0m\u001b[0mbuckets\u001b[0m\u001b[0;34m[\u001b[0m\u001b[0mhidx\u001b[0m\u001b[0;34m]\u001b[0m\u001b[0;34m:\u001b[0m\u001b[0;34m\u001b[0m\u001b[0m\n\u001b[0;32m---> 57\u001b[0;31m             \u001b[0;32mraise\u001b[0m \u001b[0mKeyError\u001b[0m\u001b[0;34m\u001b[0m\u001b[0m\n\u001b[0m\u001b[1;32m     58\u001b[0m         \u001b[0;32melse\u001b[0m\u001b[0;34m:\u001b[0m\u001b[0;34m\u001b[0m\u001b[0m\n\u001b[1;32m     59\u001b[0m             \u001b[0;32mwhile\u001b[0m \u001b[0;32mTrue\u001b[0m\u001b[0;34m:\u001b[0m\u001b[0;34m\u001b[0m\u001b[0m\n",
      "\u001b[0;31mKeyError\u001b[0m: "
     ]
    }
   ],
   "source": [
    "# (4 points) Deletion testing\n",
    "\n",
    "from unittest import TestCase\n",
    "import random\n",
    "\n",
    "tc = TestCase()\n",
    "\n",
    "ht = Hashtable(100)\n",
    "d = {}\n",
    "\n",
    "for i in range(100):\n",
    "    k, v = str(i), str(random.randrange(10000000, 99999999))\n",
    "    d[k] = v\n",
    "    ht[k] = v\n",
    "    \n",
    "        \n",
    "for _ in range(50):\n",
    "    k = str(random.randrange(100))\n",
    "    if k in d:\n",
    "        del d[k]\n",
    "        del ht[k]\n",
    "\n",
    "tc.assertEqual(len(ht), len(d))\n",
    "\n",
    "for k,v in ht.items():\n",
    "    tc.assertEqual(d[k], v)"
   ]
  },
  {
   "cell_type": "code",
   "execution_count": 320,
   "metadata": {
    "collapsed": false,
    "deletable": false,
    "editable": false,
    "nbgrader": {
     "checksum": "0f3c9c3ea92260fb93309c8332195eb1",
     "grade": true,
     "grade_id": "tests_setdefault",
     "locked": true,
     "points": 4,
     "schema_version": 1,
     "solution": false
    }
   },
   "outputs": [],
   "source": [
    "# (4 points) Setdefault testing\n",
    "\n",
    "from unittest import TestCase\n",
    "import random\n",
    "\n",
    "tc = TestCase()\n",
    "\n",
    "ht = Hashtable(100)\n",
    "d = {}\n",
    "\n",
    "tc.assertEqual(ht.setdefault('1', '2'), '2')\n",
    "ht['3'] = '4'\n",
    "tc.assertEqual(ht.setdefault('3', '5'), '4')\n",
    "del ht['3']\n",
    "tc.assertEqual(ht.setdefault('3', '6'), '6')\n",
    "tc.assertEqual(ht.setdefault('7'), None)\n",
    "ht['7'] = '8'\n",
    "tc.assertEqual(ht.setdefault('7'), '8')"
   ]
  },
  {
   "cell_type": "code",
   "execution_count": null,
   "metadata": {
    "collapsed": true
   },
   "outputs": [],
   "source": []
  },
  {
   "cell_type": "code",
   "execution_count": 321,
   "metadata": {
    "collapsed": false,
    "deletable": false,
    "editable": false,
    "nbgrader": {
     "checksum": "5e9075fead0ced3c56a876c20a9df377",
     "grade": true,
     "grade_id": "tests_stress",
     "locked": true,
     "points": 4,
     "schema_version": 1,
     "solution": false
    }
   },
   "outputs": [],
   "source": [
    "# (4 points) Stress testing\n",
    "\n",
    "from unittest import TestCase\n",
    "import random\n",
    "\n",
    "tc = TestCase()\n",
    "\n",
    "ht = Hashtable(100000)\n",
    "d = {}\n",
    "\n",
    "for _ in range(100000):\n",
    "    k, v = str(random.randrange(100000)), str(random.randrange(10000000, 99999999))\n",
    "    d[k] = v\n",
    "    ht[k] = v\n",
    "    \n",
    "for k,v in d.items():\n",
    "    tc.assertTrue(k in ht)\n",
    "    tc.assertEqual(d[k], ht[k])"
   ]
  },
  {
   "cell_type": "code",
   "execution_count": null,
   "metadata": {
    "collapsed": true
   },
   "outputs": [],
   "source": []
  }
 ],
 "metadata": {
  "kernelspec": {
   "display_name": "Python 3",
   "language": "python",
   "name": "python3"
  },
  "language_info": {
   "codemirror_mode": {
    "name": "ipython",
    "version": 3
   },
   "file_extension": ".py",
   "mimetype": "text/x-python",
   "name": "python",
   "nbconvert_exporter": "python",
   "pygments_lexer": "ipython3",
   "version": "3.6.0"
  }
 },
 "nbformat": 4,
 "nbformat_minor": 1
}
