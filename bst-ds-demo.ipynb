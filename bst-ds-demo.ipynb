{
 "cells": [
  {
   "cell_type": "markdown",
   "metadata": {},
   "source": [
    "# The BSTree data structure\n",
    "\n",
    "## Agenda\n",
    "\n",
    "- API\n",
    "- Implementation\n",
    "    - Search\n",
    "    - Addition\n",
    "    - Removal\n",
    "    - Iteration / Traversal"
   ]
  },
  {
   "cell_type": "markdown",
   "metadata": {},
   "source": [
    "## API"
   ]
  },
  {
   "cell_type": "code",
   "execution_count": 2,
   "metadata": {
    "collapsed": true
   },
   "outputs": [],
   "source": [
    "class BSTree:\n",
    "    class Node:\n",
    "        def __init__(self, val, left=None, right=None):\n",
    "            self.val = val\n",
    "            self.left = left\n",
    "            self.right = right\n",
    "            \n",
    "    def __init__(self):\n",
    "        self.size = 0\n",
    "        self.root = None\n",
    "    \n",
    "    def add(self, val):\n",
    "        \"\"\"Adds `val` to this tree while maintaining BSTree properties.\"\"\"\n",
    "        assert(val not in self)\n",
    "        pass\n",
    "    \n",
    "    def __contains__(self, val):\n",
    "        \"\"\"Returns `True` if val is in this tree and `False` otherwise.\"\"\"\n",
    "        pass\n",
    "    \n",
    "    def __delitem__(self, val):\n",
    "        \"\"\"Removes `val` from this tree while maintaining BSTree properties.\"\"\"\n",
    "        assert(val in self)\n",
    "        pass\n",
    "    \n",
    "    def __iter__(self):\n",
    "        \"\"\"Returns an iterator over all the values in the tree, in ascending order.\"\"\"\n",
    "        pass\n",
    "\n",
    "    def __len__(self):\n",
    "        return self.size\n",
    "\n",
    "    def pprint(self, width=64):\n",
    "        \"\"\"Attempts to pretty-print this tree's contents.\"\"\"\n",
    "        height = self.height()\n",
    "        nodes  = [(self.root, 0)]\n",
    "        prev_level = 0\n",
    "        repr_str = ''\n",
    "        while nodes:\n",
    "            n,level = nodes.pop(0)\n",
    "            if prev_level != level:\n",
    "                prev_level = level\n",
    "                repr_str += '\\n'\n",
    "            if not n:\n",
    "                if level < height-1:\n",
    "                    nodes.extend([(None, level+1), (None, level+1)])\n",
    "                repr_str += '{val:^{width}}'.format(val='-', width=width//2**level)\n",
    "            elif n:\n",
    "                if n.left or level < height-1:\n",
    "                    nodes.append((n.left, level+1))\n",
    "                if n.right or level < height-1:\n",
    "                    nodes.append((n.right, level+1))\n",
    "                repr_str += '{val:^{width}}'.format(val=n.val, width=width//2**level)\n",
    "        print(repr_str)\n",
    "    \n",
    "    def height(self):\n",
    "        \"\"\"Returns the height of the longest branch of the tree.\"\"\"\n",
    "        def height_rec(t):\n",
    "            if not t:\n",
    "                return 0\n",
    "            else:\n",
    "                return max(1+height_rec(t.left), 1+height_rec(t.right))\n",
    "        return height_rec(self.root)"
   ]
  },
  {
   "cell_type": "code",
   "execution_count": 3,
   "metadata": {},
   "outputs": [],
   "source": [
    "t = BSTree()\n",
    "t.root = BSTree.Node(5,\n",
    "                    left=BSTree.Node(2),\n",
    "                    right=BSTree.Node(10,\n",
    "                                     left = BSTree.Node(7),\n",
    "                                     right = BSTree.Node(15)))\n",
    "t.size = 3"
   ]
  },
  {
   "cell_type": "code",
   "execution_count": 4,
   "metadata": {},
   "outputs": [
    {
     "name": "stdout",
     "output_type": "stream",
     "text": [
      "                               5                                \n",
      "               2                               10               \n",
      "       -               -               7               15       \n"
     ]
    }
   ],
   "source": [
    "t.pprint()"
   ]
  },
  {
   "cell_type": "code",
   "execution_count": 5,
   "metadata": {},
   "outputs": [
    {
     "data": {
      "text/plain": [
       "3"
      ]
     },
     "execution_count": 5,
     "metadata": {},
     "output_type": "execute_result"
    }
   ],
   "source": [
    "t.height()"
   ]
  },
  {
   "cell_type": "markdown",
   "metadata": {},
   "source": [
    "## Implementation"
   ]
  },
  {
   "cell_type": "markdown",
   "metadata": {},
   "source": [
    "### Search"
   ]
  },
  {
   "cell_type": "code",
   "execution_count": 6,
   "metadata": {
    "collapsed": true
   },
   "outputs": [],
   "source": [
    "class BSTree(BSTree): # Worst runtime complexity is O(N), O(logN) on balance tree \n",
    "    def __contains__(self, val):\n",
    "        def __contains__rec(t):\n",
    "            if t is None:\n",
    "                return False\n",
    "            elif t.val == val:\n",
    "                return True\n",
    "            elif t.val < val:\n",
    "                return __contains__rec(t.right)\n",
    "            else: # t.val > val:\n",
    "                return __contains__rec (t.left)\n",
    "        return __contains__rec(self.root)"
   ]
  },
  {
   "cell_type": "code",
   "execution_count": 7,
   "metadata": {
    "collapsed": true
   },
   "outputs": [],
   "source": [
    "t = BSTree()\n",
    "t.root = BSTree.Node(5,\n",
    "                    left=BSTree.Node(2),\n",
    "                    right=BSTree.Node(10))\n",
    "t.size = 3"
   ]
  },
  {
   "cell_type": "code",
   "execution_count": 8,
   "metadata": {},
   "outputs": [
    {
     "data": {
      "text/plain": [
       "True"
      ]
     },
     "execution_count": 8,
     "metadata": {},
     "output_type": "execute_result"
    }
   ],
   "source": [
    "10 in t"
   ]
  },
  {
   "cell_type": "markdown",
   "metadata": {},
   "source": [
    "### Addition"
   ]
  },
  {
   "cell_type": "code",
   "execution_count": 9,
   "metadata": {},
   "outputs": [],
   "source": [
    "class BSTree(BSTree): # The run time complexity \n",
    "    def add(self, val):\n",
    "        assert(val not in self)\n",
    "        def add_rec(t):\n",
    "            if t is None:\n",
    "                return BSTree.Node(val)\n",
    "            elif val < t.val:\n",
    "                t.left = add_rec(t.left)\n",
    "            else:\n",
    "                t.right = add_rec(t.right)\n",
    "            return t\n",
    "        self.root = add_rec(self.root)\n",
    "        self.size += 1"
   ]
  },
  {
   "cell_type": "code",
   "execution_count": 10,
   "metadata": {},
   "outputs": [
    {
     "name": "stdout",
     "output_type": "stream",
     "text": [
      "                               10                               \n",
      "               5                               81               \n",
      "       3               8               53              -        \n",
      "   0       -       6       -       -       -       -       -    \n"
     ]
    }
   ],
   "source": [
    "t = BSTree()\n",
    "for x in [10,5,8,81,53,6,3,0]:\n",
    "    t.add(x)\n",
    "t.pprint()"
   ]
  },
  {
   "cell_type": "code",
   "execution_count": 11,
   "metadata": {},
   "outputs": [
    {
     "name": "stdout",
     "output_type": "stream",
     "text": [
      "                               10                               \n",
      "               5                               81               \n",
      "       3               8               53              -        \n",
      "   0       -       6       -       11      -       -       -    \n"
     ]
    }
   ],
   "source": [
    "t.add(11)\n",
    "t.pprint()"
   ]
  },
  {
   "cell_type": "code",
   "execution_count": 12,
   "metadata": {},
   "outputs": [
    {
     "name": "stdout",
     "output_type": "stream",
     "text": [
      "                               0                                \n",
      "               -                               3                \n",
      "       -               -               2               4        \n",
      "   -       -       -       -       1       -       -       -    \n"
     ]
    }
   ],
   "source": [
    "import random\n",
    "t = BSTree()\n",
    "vals = list(range(5))\n",
    "random.shuffle(vals)\n",
    "for x in vals:\n",
    "    t.add(x)\n",
    "t.pprint()"
   ]
  },
  {
   "cell_type": "code",
   "execution_count": 13,
   "metadata": {
    "collapsed": true
   },
   "outputs": [],
   "source": [
    "import random\n",
    "t = BSTree()\n",
    "vals = list(range(1, 10, 2))\n",
    "random.shuffle(vals)\n",
    "for x in vals:\n",
    "    t.add(x)\n",
    "\n",
    "assert(all(x in t for x in range(1, 10, 2)))\n",
    "assert(all(x not in t for x in range(0, 12, 2)))"
   ]
  },
  {
   "cell_type": "markdown",
   "metadata": {},
   "source": [
    "### Removal"
   ]
  },
  {
   "cell_type": "code",
   "execution_count": 14,
   "metadata": {},
   "outputs": [],
   "source": [
    "class BSTree(BSTree):\n",
    "    def __delitem__(self, val):\n",
    "        assert(val in self)\n",
    "        def delitem_rec(t):\n",
    "            if val < t.val:\n",
    "                t.left = delitem_rec(t.left)\n",
    "            elif val > t.val:\n",
    "                t.right = delitem_rec(t.right)\n",
    "            else: #val == t.val\n",
    "                if not t.left and not t.right:\n",
    "                    return None\n",
    "                elif t.left and not t.right:\n",
    "                    return t.left\n",
    "                elif t.right and not t.left:\n",
    "                    return t.right\n",
    "                else:\n",
    "                    pass\n",
    "            return t\n",
    "        self.root = delitem_rec(self.root)\n",
    "        self.size -= 1\n",
    "        "
   ]
  },
  {
   "cell_type": "code",
   "execution_count": 15,
   "metadata": {},
   "outputs": [
    {
     "name": "stdout",
     "output_type": "stream",
     "text": [
      "                               10                               \n",
      "               5                               15               \n",
      "       2               -               -               17       \n"
     ]
    }
   ],
   "source": [
    "t = BSTree()\n",
    "for x in [10, 5, 15, 2, 17]:\n",
    "    t.add(x)\n",
    "t.pprint()"
   ]
  },
  {
   "cell_type": "code",
   "execution_count": 16,
   "metadata": {},
   "outputs": [
    {
     "name": "stdout",
     "output_type": "stream",
     "text": [
      "                               10                               \n",
      "               5                               17               \n",
      "       2               -               -               -        \n"
     ]
    }
   ],
   "source": [
    "del t[15]\n",
    "t.pprint()"
   ]
  },
  {
   "cell_type": "code",
   "execution_count": 17,
   "metadata": {},
   "outputs": [
    {
     "name": "stdout",
     "output_type": "stream",
     "text": [
      "                               10                               \n",
      "               2                               15               \n",
      "       -               -               -               17       \n"
     ]
    }
   ],
   "source": [
    "t = BSTree()\n",
    "for x in [10, 5, 15, 2, 17]:\n",
    "    t.add(x)\n",
    "del t[5]\n",
    "t.pprint()"
   ]
  },
  {
   "cell_type": "code",
   "execution_count": 18,
   "metadata": {},
   "outputs": [
    {
     "name": "stdout",
     "output_type": "stream",
     "text": [
      "                               10                               \n",
      "               5                               15               \n",
      "       2               -               -               17       \n"
     ]
    }
   ],
   "source": [
    "t = BSTree()\n",
    "for x in [10, 5, 15, 2, 17]:\n",
    "    t.add(x)\n",
    "del t[10]\n",
    "t.pprint()"
   ]
  },
  {
   "cell_type": "code",
   "execution_count": 19,
   "metadata": {},
   "outputs": [],
   "source": [
    "class BSTree(BSTree):\n",
    "    def __delitem__(self, val):\n",
    "        # fully working delete\n",
    "        assert(val in self)\n",
    "        def delitem_rec(t):\n",
    "            if val < t.val:\n",
    "                t.left = delitem_rec(t.left)\n",
    "            elif val > t.val:\n",
    "                t.right = delitem_rec(t.right)\n",
    "            else: #val == t.val\n",
    "                if not t.left and not t.right:\n",
    "                    return None\n",
    "                elif t.left and not t.right:\n",
    "                    return t.left\n",
    "                elif t.right and not t.left:\n",
    "                    return t.right\n",
    "                else:\n",
    "                    to_del = t.left\n",
    "                    if not to_del.right:\n",
    "                        t.left = to_del.left\n",
    "                    else:\n",
    "                        p = to_del\n",
    "                        to_del = to_del.right\n",
    "                        while to_del.right:\n",
    "                            p = to_del\n",
    "                            to_del = to_del.right\n",
    "                        p.right = to_del.left\n",
    "                    t.val = to_del.val\n",
    "                    \n",
    "            return t\n",
    "        self.root = delitem_rec(self.root)\n",
    "        self.size -= 1\n",
    "        \n"
   ]
  },
  {
   "cell_type": "code",
   "execution_count": 20,
   "metadata": {},
   "outputs": [
    {
     "name": "stdout",
     "output_type": "stream",
     "text": [
      "                               10                               \n",
      "               5                               15               \n",
      "       2               7               12              18       \n",
      "   1       -       -       9       -       -       -       -    \n",
      " -   -   -   -   -   -   8   -   -   -   -   -   -   -   -   -  \n"
     ]
    }
   ],
   "source": [
    "t = BSTree()\n",
    "for x in [10, 5, 2, 7, 9, 8, 1, 15, 12, 18]:\n",
    "    t.add(x)\n",
    "t.pprint()"
   ]
  },
  {
   "cell_type": "code",
   "execution_count": 21,
   "metadata": {},
   "outputs": [
    {
     "name": "stdout",
     "output_type": "stream",
     "text": [
      "                               10                               \n",
      "               5                               12               \n",
      "       2               7               -               18       \n",
      "   1       -       -       9       -       -       -       -    \n",
      " -   -   -   -   -   -   8   -   -   -   -   -   -   -   -   -  \n"
     ]
    }
   ],
   "source": [
    "del t[15]\n",
    "t.pprint()"
   ]
  },
  {
   "cell_type": "code",
   "execution_count": 22,
   "metadata": {},
   "outputs": [
    {
     "name": "stdout",
     "output_type": "stream",
     "text": [
      "                               10                               \n",
      "               2                               15               \n",
      "       1               7               12              18       \n",
      "   -       -       -       9       -       -       -       -    \n",
      " -   -   -   -   -   -   8   -   -   -   -   -   -   -   -   -  \n"
     ]
    }
   ],
   "source": [
    "t = BSTree()\n",
    "for x in [10, 5, 2, 7, 9, 8, 1, 15, 12, 18]:\n",
    "    t.add(x)\n",
    "del t[5]\n",
    "t.pprint()"
   ]
  },
  {
   "cell_type": "code",
   "execution_count": 23,
   "metadata": {},
   "outputs": [
    {
     "name": "stdout",
     "output_type": "stream",
     "text": [
      "                               9                                \n",
      "               5                               15               \n",
      "       2               7               12              18       \n",
      "   1       -       -       8       -       -       -       -    \n"
     ]
    }
   ],
   "source": [
    "t = BSTree()\n",
    "for x in [10, 5, 2, 7, 9, 8, 1, 15, 12, 18]:\n",
    "    t.add(x)\n",
    "del t[10]\n",
    "t.pprint()"
   ]
  },
  {
   "cell_type": "markdown",
   "metadata": {},
   "source": [
    "### Iteration / Traversal"
   ]
  },
  {
   "cell_type": "code",
   "execution_count": 24,
   "metadata": {
    "collapsed": true
   },
   "outputs": [],
   "source": [
    "class BSTree(BSTree):\n",
    "    def __iter__(self):\n",
    "        def traverse(t):\n",
    "            if t is None:\n",
    "                pass\n",
    "            else:\n",
    "                #yield t.val (pre-order traversal)\n",
    "                yield from traverse (t.left)\n",
    "                yield t.val   # (pre-order traversal)\n",
    "                yield from traverse (t.right)\n",
    "                #yield t.val (post-order traversal)\n",
    "        yield from traverse(self.root)"
   ]
  },
  {
   "cell_type": "code",
   "execution_count": 25,
   "metadata": {},
   "outputs": [
    {
     "name": "stdout",
     "output_type": "stream",
     "text": [
      "                               5                                \n",
      "               4                               6                \n",
      "       3               -               -               7        \n",
      "   2       -       -       -       -       -       -       -    \n",
      " 0   -   -   -   -   -   -   -   -   -   -   -   -   -   -   -  \n",
      "- 1 - - - - - - - - - - - - - - - - - - - - - - - - - - - - - - \n",
      "0\n",
      "1\n",
      "2\n",
      "3\n",
      "4\n",
      "5\n",
      "6\n",
      "7\n"
     ]
    }
   ],
   "source": [
    "import random\n",
    "t = BSTree()\n",
    "vals = list(range(8))\n",
    "random.shuffle(vals)\n",
    "for x in vals:\n",
    "    t.add(x)\n",
    "t.pprint()\n",
    "for x in t:\n",
    "    print(x)"
   ]
  },
  {
   "cell_type": "code",
   "execution_count": null,
   "metadata": {
    "collapsed": true
   },
   "outputs": [],
   "source": []
  }
 ],
 "metadata": {
  "kernelspec": {
   "display_name": "Python 3",
   "language": "python",
   "name": "python3"
  },
  "language_info": {
   "codemirror_mode": {
    "name": "ipython",
    "version": 3
   },
   "file_extension": ".py",
   "mimetype": "text/x-python",
   "name": "python",
   "nbconvert_exporter": "python",
   "pygments_lexer": "ipython3",
   "version": "3.6.2"
  }
 },
 "nbformat": 4,
 "nbformat_minor": 1
}
